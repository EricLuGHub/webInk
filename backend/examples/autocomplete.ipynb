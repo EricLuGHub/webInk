{
 "cells": [
  {
   "cell_type": "code",
   "id": "initial_id",
   "metadata": {
    "collapsed": true,
    "ExecuteTime": {
     "end_time": "2025-08-19T15:34:12.904274Z",
     "start_time": "2025-08-19T15:34:12.437849Z"
    }
   },
   "source": [
    "import dotenv\n",
    "dotenv.load_dotenv()\n",
    "import os\n",
    "from openai import OpenAI\n",
    "import trafilatura\n",
    "from html import unescape"
   ],
   "outputs": [],
   "execution_count": 1
  },
  {
   "metadata": {
    "ExecuteTime": {
     "end_time": "2025-08-19T15:34:14.141189Z",
     "start_time": "2025-08-19T15:34:14.123094Z"
    }
   },
   "cell_type": "code",
   "source": [
    "client = OpenAI(api_key=os.environ[\"OPENAI_API_KEY\"])\n",
    "with open('prompts/system.txt', 'r', encoding='utf8') as f:\n",
    "    system_prompt = f.read()\n",
    "# system_prompt"
   ],
   "id": "5ee59bf7a6941f31",
   "outputs": [],
   "execution_count": 2
  },
  {
   "metadata": {
    "ExecuteTime": {
     "end_time": "2025-08-19T15:34:15.809237Z",
     "start_time": "2025-08-19T15:34:15.804558Z"
    }
   },
   "cell_type": "code",
   "source": [
    "# extract useful content\n",
    "with open('webpages/overleaf_2.html', 'r', encoding='utf-8') as f:\n",
    "    html_content = unescape(f.read())\n",
    "# print(trafilatura.extract(html_content, favor_recall=True))"
   ],
   "id": "98060b3891ce1c65",
   "outputs": [],
   "execution_count": 3
  },
  {
   "metadata": {
    "ExecuteTime": {
     "end_time": "2025-08-19T15:34:18.079581Z",
     "start_time": "2025-08-19T15:34:18.069378Z"
    }
   },
   "cell_type": "code",
   "source": [
    "# extract all text content\n",
    "html_extracted = trafilatura.html2txt(html_content, clean=True)\n",
    "# html_extracted"
   ],
   "id": "549544d591cdafd",
   "outputs": [],
   "execution_count": 4
  },
  {
   "metadata": {
    "ExecuteTime": {
     "end_time": "2025-08-19T15:34:31.275651Z",
     "start_time": "2025-08-19T15:34:31.197912Z"
    }
   },
   "cell_type": "code",
   "source": [
    "# extract metadata\n",
    "html_metadata = (trafilatura.extract_metadata(html_content).as_dict())\n",
    "for key, value in html_metadata.items():\n",
    "    # print(f\"{key}: {value}\")\n",
    "    pass"
   ],
   "id": "c1c5fa10dd2faf8d",
   "outputs": [],
   "execution_count": 6
  },
  {
   "metadata": {
    "ExecuteTime": {
     "end_time": "2025-08-19T15:34:41.741525Z",
     "start_time": "2025-08-19T15:34:36.667606Z"
    }
   },
   "cell_type": "code",
   "source": [
    "completion = client.responses.create(\n",
    "    model='gpt-4.1',\n",
    "    instructions=system_prompt,\n",
    "    input=html_extracted,\n",
    "    temperature=0.5,\n",
    ")\n",
    "# print(completion.output_text)\n",
    "# print(completion.usage)\n"
   ],
   "id": "29152b1df8a7629d",
   "outputs": [],
   "execution_count": 7
  },
  {
   "metadata": {},
   "cell_type": "code",
   "outputs": [],
   "execution_count": null,
   "source": "",
   "id": "659e275063fb5efa"
  }
 ],
 "metadata": {
  "kernelspec": {
   "display_name": "Python 3",
   "language": "python",
   "name": "python3"
  },
  "language_info": {
   "codemirror_mode": {
    "name": "ipython",
    "version": 2
   },
   "file_extension": ".py",
   "mimetype": "text/x-python",
   "name": "python",
   "nbconvert_exporter": "python",
   "pygments_lexer": "ipython2",
   "version": "2.7.6"
  }
 },
 "nbformat": 4,
 "nbformat_minor": 5
}
