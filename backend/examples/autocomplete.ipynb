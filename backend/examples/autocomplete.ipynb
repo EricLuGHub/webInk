{
 "cells": [
  {
   "cell_type": "code",
   "id": "initial_id",
   "metadata": {
    "collapsed": true,
    "ExecuteTime": {
     "end_time": "2025-08-05T13:45:05.217395Z",
     "start_time": "2025-08-05T13:45:04.400006Z"
    }
   },
   "source": [
    "import dotenv\n",
    "dotenv.load_dotenv()\n",
    "import os\n",
    "from openai import OpenAI\n",
    "import trafilatura"
   ],
   "outputs": [],
   "execution_count": 1
  },
  {
   "metadata": {
    "ExecuteTime": {
     "end_time": "2025-08-05T15:47:47.032852Z",
     "start_time": "2025-08-05T15:47:47.024202Z"
    }
   },
   "cell_type": "code",
   "source": [
    "client = OpenAI(api_key=os.environ[\"OPENAI_API_KEY\"])\n",
    "with open('prompts/system.txt', 'r', encoding='utf8') as f:\n",
    "    system_prompt = f.read()\n",
    "system_prompt"
   ],
   "id": "5ee59bf7a6941f31",
   "outputs": [
    {
     "data": {
      "text/plain": [
       "'You will be given the full text content extracted from the html of a webpage.\\nYour task is to suggest a completion at the indicated location.\\nThe insertion point will be marked with {COMPLETION HERE}.\\nYour completion should be a continuation of the text, maintaining the style and context of the original content.\\nIt should avoid repeating words or phrases that are already present in the text.\\nThe completion should be around two sentences long.\\n\\n'"
      ]
     },
     "execution_count": 43,
     "metadata": {},
     "output_type": "execute_result"
    }
   ],
   "execution_count": 43
  },
  {
   "metadata": {
    "ExecuteTime": {
     "end_time": "2025-08-05T15:47:56.926215Z",
     "start_time": "2025-08-05T15:47:56.841203Z"
    }
   },
   "cell_type": "code",
   "source": [
    "# extract useful content\n",
    "with open('webpages/discord_3.html', 'r', encoding='utf-8') as f:\n",
    "    html_content = f.read()\n",
    "print(trafilatura.extract(html_content, favor_recall=True))"
   ],
   "id": "98060b3891ce1c65",
   "outputs": [
    {
     "name": "stdout",
     "output_type": "stream",
     "text": [
      "chat\n",
      "- Use the up and down arrow keys to navigate between messages quickly. New messages will be added to the bottom of the list as they come in.\n",
      "- Ayo yz I’m actually a little behind on my research thing\n",
      "- So I will likely not touch the project before Sunday\n",
      "Yizhou\n",
      "Mhm gotchugr0m1t\n",
      "yoo yz- justing making sure, we meet at 1pm ish on the mcgill campus?\n",
      "Yizhou\n",
      "On Sunday yeahgr0m1t\n",
      "- i'll meet you there then\n",
      "- i have driving class at 7\n",
      "- so we prob need to rap it up at 6:55 ish\n",
      "Yizhou\n",
      "Sg brogr0m1t\n",
      "I likely would have to eat, wbu?Yizhou\n",
      "Ye me too- We could have dinner tgt\n",
      "gr0m1t\n",
      "ight ightgr0m1t\n",
      "yo yz, actually, i think the meeting gonna be lil longer with my prof- how about 1:30 pm\n",
      "Yizhou\n",
      "Good- Bro is the most popular driver in mtl\n",
      "gr0m1t\n",
      "- wtf\n",
      "Yizhou\n",
      "Him instead of max on the rb cargr0m1t\n",
      "selling last years inventory- do they sell kick sauber with zhou?\n",
      "Yizhou\n",
      "They don’t have it- All perez and one Leclerc\n",
      "gr0m1t\n",
      "no one wanted to buy perez last year probably- they've been selling it for 1-2 years now\n",
      "Yizhou\n",
      "Probablygr0m1t\n",
      "Alr yizhou- I’m actually done\n",
      "- Cuz prof parking is running out\n",
      "- Lmk when you’re around\n",
      "Yizhou\n",
      "Ayt I’ll get there around 1:30gr0m1t\n",
      "Yo I’m hereYizhou\n",
      "Just got on green linegr0m1t\n",
      "Get off at peel btw- It’s closer\n",
      "- I’ll be at the main entry\n",
      "gr0m1t\n",
      "sYizhou\n",
      "Yo what’s the app again to use ur iPad as a monitorgr0m1t\n",
      "Sidecar- Should be installed already\n",
      "Yizhou\n",
      "Betgr0m1t\n",
      "you got it to work?Yizhou\n",
      "Yeahgr0m1t\n",
      "July 30, 2025\n",
      "August 1, 2025\n",
      "August 3, 2025\n",
      "August 4, 2025\n"
     ]
    }
   ],
   "execution_count": 44
  },
  {
   "metadata": {
    "ExecuteTime": {
     "end_time": "2025-08-05T15:47:59.032505Z",
     "start_time": "2025-08-05T15:47:59.020098Z"
    }
   },
   "cell_type": "code",
   "source": [
    "# extract all text content\n",
    "html_extracted = trafilatura.html2txt(html_content, clean=True)\n",
    "html_extracted"
   ],
   "id": "549544d591cdafd",
   "outputs": [
    {
     "data": {
      "text/plain": [
       "\"You need to enable JavaScript to run this app. Direct MessagesnewDirect Messages Slice N' Save Old WebInkW1 mention, Slice N Save︱.gg/sliceandsave1WormSecurity, Langroid, folder CMU Block Market 2024-2025EMU, CMU Class of 2028+, CMIMC, ACM @ CMU, CMU Data Science Club, ..., folder SFAM, Mari Algorithms, IUBDC 2024 - Marianopolis, Yizhou's server, folder SUMaC 2023, Noobleahcim的服务器, Purple Comet 2022, SHAD 2022 TMU, ..., folder , 3 unread mentions3Math et al., Mathematical Olympiads, Meritus (Olympiads) CC Server, ..., folder Marianopolis Engineering Society, Mari Math Club, ..., folder The Marianopolis Programming Club, MariHacks 7.0, BrébeufHx, ..., folder mariano brebs, Les Nègres Jaunes, Mari Breb, folder Finissants 2021-2022, Le manifeste -- Journal étudiant, folder AXYAS Tutoring Service, Roma, The B group, folder new Find or start a conversationFriendsJoin NitroShopnewDirect Messagesgr0m1tDiscordOFFICIALOfficial Discord Messageew_combinatoricsaidanzhangLes Nègres Jaunes?4 MembersAutomata Theory FanOTISFlashkyleSimplerabbitJayVinctaliaArushi Singhamyakshat_121314KhaloodWkimmo1127Stark Odinsonziyiq_qhannahyearsAnirudh Vatskirsten!TiPillsKarter Yizhou_yizhou_OnlineUpload to @gr0m1tYou can add comments before uploading. Hold shift to upload directly.Direct Messagegr0m1tAKAeRICK, Eric LuSearch chatUse the up and down arrow keys to navigate between messages quickly. New messages will be added to the bottom of the list as they come in.July 30, 2025gr0m1t — 7/30/25, 2:29 PMYeah that could be interesting[2:34 PM] Ayo yz I’m actually a little behind on my research thing[2:35 PM] So I will likely not touch the project before SundayYizhou — 7/30/25, 2:38 PMMhm gotchuAugust 1, 2025gr0m1t — 8/1/25, 9:54 PMyoo yz[9:55 PM] justing making sure, we meet at 1pm ish on the mcgill campus?Yizhou — 8/1/25, 10:00 PMOn Sunday yeahgr0m1t — 8/1/25, 10:01 PM[10:01 PM] i'll meet you there then[10:02 PM] i have driving class at 7[10:02 PM] so we prob need to rap it up at 6:55 ishYizhou — 8/1/25, 10:18 PMSg brogr0m1t — 8/1/25, 10:35 PMI likely would have to eat, wbu? (edited)Yizhou — 8/1/25, 10:44 PMYe me too[10:44 PM] We could have dinner tgtgr0m1t — 8/1/25, 10:55 PMight ight August 3, 2025gr0m1t — 8/3/25, 11:13 AMyo yz, actually, i think the meeting gonna be lil longer with my prof[11:13 AM] how about 1:30 pmYizhou — 8/3/25, 11:34 AMGood[11:35 AM] [11:35 AM] Bro is the most popular driver in mtlgr0m1t — 8/3/25, 11:35 AM [11:35 AM] wtfYizhou — 8/3/25, 11:35 AMHim instead of max on the rb cargr0m1t — 8/3/25, 11:36 AMselling last years inventory[11:36 AM] do they sell kick sauber with zhou?Yizhou — 8/3/25, 11:37 AMThey don’t have it[11:37 AM] All perez and one Leclercgr0m1t — 8/3/25, 11:37 AMno one wanted to buy perez last year probably[11:38 AM] they've been selling it for 1-2 years nowYizhou — 8/3/25, 11:38 AMProbably gr0m1t — 8/3/25, 12:28 PMAlr yizhou[12:28 PM] I’m actually done[12:28 PM] Cuz prof parking is running out[12:28 PM] Lmk when you’re aroundYizhou — 8/3/25, 1:04 PMAyt I’ll get there around 1:30gr0m1t — 8/3/25, 1:29 PMYo I’m hereYizhou — 8/3/25, 1:30 PMJust got on green linegr0m1t — 8/3/25, 1:34 PMGet off at peel btw[1:34 PM] It’s closer[1:34 PM] I’ll be at the main entrygr0m1t — 8/3/25, 2:16 PMhttps://discord.gg/C2sheQbAWWebInk2 Online2 MembersEst. Aug 2025gr0m1t — 8/3/25, 4:54 PMsYizhou — 8/3/25, 11:01 PMYo what’s the app again to use ur iPad as a monitorgr0m1t — 8/3/25, 11:01 PMSidecar[11:01 PM] Should be installed alreadyYizhou — 8/3/25, 11:48 PMBetAugust 4, 2025gr0m1t — Yesterday at 10:27 AMyou got it to work? (edited)Yizhou — Yesterday at 10:49 AMYeahgr0m1t — Yesterday at 10:49 AM yo speaking of f1, what is {COMPLETION HERE} ,,Reactionsclick to open image dialog\""
      ]
     },
     "execution_count": 45,
     "metadata": {},
     "output_type": "execute_result"
    }
   ],
   "execution_count": 45
  },
  {
   "metadata": {
    "ExecuteTime": {
     "end_time": "2025-08-05T15:27:51.365313Z",
     "start_time": "2025-08-05T15:27:51.276062Z"
    }
   },
   "cell_type": "code",
   "source": [
    "# extract metadata\n",
    "html_metadata = (trafilatura.extract_metadata(html_content).as_dict())\n",
    "for key, value in html_metadata.items():\n",
    "    print(f\"{key}: {value}\")"
   ],
   "id": "c1c5fa10dd2faf8d",
   "outputs": [
    {
     "name": "stdout",
     "output_type": "stream",
     "text": [
      "title: Discord - Group Chat That’s All Fun & Games\n",
      "author: None\n",
      "url: None\n",
      "hostname: None\n",
      "description: Discord is great for playing games and chilling with friends, or even building a worldwide community. Customize your own space to talk, play, and hang out.\n",
      "sitename: Discord\n",
      "date: 2025-07-30\n",
      "categories: []\n",
      "tags: []\n",
      "fingerprint: None\n",
      "id: None\n",
      "license: None\n",
      "body: <Element body at 0x116a72680>\n",
      "comments: None\n",
      "commentsbody: <Element body at 0x116a72640>\n",
      "raw_text: None\n",
      "text: None\n",
      "language: None\n",
      "image: https://cdn.discordapp.com/assets/og_img_discord_home.png\n",
      "pagetype: website\n",
      "filedate: 2025-08-05\n"
     ]
    }
   ],
   "execution_count": 19
  },
  {
   "metadata": {
    "ExecuteTime": {
     "end_time": "2025-08-05T15:48:09.548929Z",
     "start_time": "2025-08-05T15:48:08.072501Z"
    }
   },
   "cell_type": "code",
   "source": [
    "completion = client.responses.create(\n",
    "    model='gpt-4.1',\n",
    "    instructions=system_prompt,\n",
    "    input=html_extracted,\n",
    ")"
   ],
   "id": "29152b1df8a7629d",
   "outputs": [],
   "execution_count": 46
  },
  {
   "metadata": {
    "ExecuteTime": {
     "end_time": "2025-08-05T15:48:10.830728Z",
     "start_time": "2025-08-05T15:48:10.828204Z"
    }
   },
   "cell_type": "code",
   "source": "completion.output_text",
   "id": "51f58ef5d36ca8e9",
   "outputs": [
    {
     "data": {
      "text/plain": [
       "'your prediction for the podium at Spa this year? I feel like there might be some surprises given how close the teams have been lately.'"
      ]
     },
     "execution_count": 47,
     "metadata": {},
     "output_type": "execute_result"
    }
   ],
   "execution_count": 47
  },
  {
   "metadata": {},
   "cell_type": "code",
   "outputs": [],
   "execution_count": null,
   "source": "",
   "id": "659e275063fb5efa"
  }
 ],
 "metadata": {
  "kernelspec": {
   "display_name": "Python 3",
   "language": "python",
   "name": "python3"
  },
  "language_info": {
   "codemirror_mode": {
    "name": "ipython",
    "version": 2
   },
   "file_extension": ".py",
   "mimetype": "text/x-python",
   "name": "python",
   "nbconvert_exporter": "python",
   "pygments_lexer": "ipython2",
   "version": "2.7.6"
  }
 },
 "nbformat": 4,
 "nbformat_minor": 5
}
