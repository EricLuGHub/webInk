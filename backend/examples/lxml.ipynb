{
 "cells": [
  {
   "cell_type": "code",
   "id": "initial_id",
   "metadata": {
    "collapsed": true,
    "ExecuteTime": {
     "end_time": "2025-08-05T14:40:50.994042Z",
     "start_time": "2025-08-05T14:40:50.991736Z"
    }
   },
   "source": "from lxml import etree, html",
   "outputs": [],
   "execution_count": 4
  },
  {
   "metadata": {
    "ExecuteTime": {
     "end_time": "2025-08-05T14:40:51.502860Z",
     "start_time": "2025-08-05T14:40:51.499369Z"
    }
   },
   "cell_type": "code",
   "source": [
    "with open('webpages/discord_3.html', 'r', encoding='utf-8') as f:\n",
    "    html_content = f.read()\n"
   ],
   "id": "70fdc5a06ac87bc5",
   "outputs": [],
   "execution_count": 5
  },
  {
   "metadata": {
    "ExecuteTime": {
     "end_time": "2025-08-05T14:49:00.836768Z",
     "start_time": "2025-08-05T14:49:00.834200Z"
    }
   },
   "cell_type": "code",
   "source": [
    "root = etree.Element(\"root\", interesting=\"totally\")\n",
    "p1 = etree.SubElement(root, \"p\", interesting=\"yes\")\n",
    "p1.text = \"boo\"\n",
    "etree.tostring(root, method='text')"
   ],
   "id": "dddffc19c69011b",
   "outputs": [
    {
     "data": {
      "text/plain": [
       "b'boo'"
      ]
     },
     "execution_count": 11,
     "metadata": {},
     "output_type": "execute_result"
    }
   ],
   "execution_count": 11
  },
  {
   "metadata": {
    "ExecuteTime": {
     "end_time": "2025-08-05T14:58:59.255864Z",
     "start_time": "2025-08-05T14:58:59.245917Z"
    }
   },
   "cell_type": "code",
   "source": [
    "# xPath: query language for XML documents\n",
    "# path with tag names\n",
    "# [@] filter by attributes\n",
    "# //: recursive\n",
    "# @attribute\n",
    "print(root.xpath(\"//p/@interesting\"))\n",
    "html_tree = html.fromstring(html_content)\n",
    "print(html_tree.xpath(\"//div[@role='textbox']//text()\"))"
   ],
   "id": "29a38f6717f77871",
   "outputs": [
    {
     "name": "stdout",
     "output_type": "stream",
     "text": [
      "['yes']\n",
      "['yo speaking of f1, what is ']\n"
     ]
    }
   ],
   "execution_count": 23
  },
  {
   "metadata": {
    "ExecuteTime": {
     "end_time": "2025-08-05T15:03:44.864504Z",
     "start_time": "2025-08-05T15:03:44.861835Z"
    }
   },
   "cell_type": "code",
   "source": [
    "# tree data structure\n",
    "for element in html_tree.iter():\n",
    "    # print(element.tag)\n",
    "    pass"
   ],
   "id": "e9a527adc6890a13",
   "outputs": [],
   "execution_count": 29
  },
  {
   "metadata": {
    "ExecuteTime": {
     "end_time": "2025-08-05T15:03:04.872676Z",
     "start_time": "2025-08-05T15:03:04.869739Z"
    }
   },
   "cell_type": "code",
   "source": "dir(html_tree)",
   "id": "3ee39fdf1f87aca4",
   "outputs": [
    {
     "data": {
      "text/plain": [
       "['__bool__',\n",
       " '__class__',\n",
       " '__contains__',\n",
       " '__copy__',\n",
       " '__deepcopy__',\n",
       " '__delattr__',\n",
       " '__delitem__',\n",
       " '__dict__',\n",
       " '__dir__',\n",
       " '__doc__',\n",
       " '__eq__',\n",
       " '__format__',\n",
       " '__ge__',\n",
       " '__getattribute__',\n",
       " '__getitem__',\n",
       " '__getstate__',\n",
       " '__gt__',\n",
       " '__hash__',\n",
       " '__init__',\n",
       " '__init_subclass__',\n",
       " '__iter__',\n",
       " '__le__',\n",
       " '__len__',\n",
       " '__lt__',\n",
       " '__module__',\n",
       " '__ne__',\n",
       " '__new__',\n",
       " '__reduce__',\n",
       " '__reduce_ex__',\n",
       " '__repr__',\n",
       " '__reversed__',\n",
       " '__setattr__',\n",
       " '__setitem__',\n",
       " '__sizeof__',\n",
       " '__str__',\n",
       " '__subclasshook__',\n",
       " '__weakref__',\n",
       " '_init',\n",
       " 'addnext',\n",
       " 'addprevious',\n",
       " 'append',\n",
       " 'attrib',\n",
       " 'base',\n",
       " 'base_url',\n",
       " 'body',\n",
       " 'classes',\n",
       " 'clear',\n",
       " 'cssselect',\n",
       " 'drop_tag',\n",
       " 'drop_tree',\n",
       " 'extend',\n",
       " 'find',\n",
       " 'find_class',\n",
       " 'find_rel_links',\n",
       " 'findall',\n",
       " 'findtext',\n",
       " 'forms',\n",
       " 'get',\n",
       " 'get_element_by_id',\n",
       " 'getchildren',\n",
       " 'getiterator',\n",
       " 'getnext',\n",
       " 'getparent',\n",
       " 'getprevious',\n",
       " 'getroottree',\n",
       " 'head',\n",
       " 'index',\n",
       " 'insert',\n",
       " 'items',\n",
       " 'iter',\n",
       " 'iterancestors',\n",
       " 'iterchildren',\n",
       " 'iterdescendants',\n",
       " 'iterfind',\n",
       " 'iterlinks',\n",
       " 'itersiblings',\n",
       " 'itertext',\n",
       " 'keys',\n",
       " 'label',\n",
       " 'make_links_absolute',\n",
       " 'makeelement',\n",
       " 'nsmap',\n",
       " 'prefix',\n",
       " 'remove',\n",
       " 'replace',\n",
       " 'resolve_base_href',\n",
       " 'rewrite_links',\n",
       " 'set',\n",
       " 'sourceline',\n",
       " 'tag',\n",
       " 'tail',\n",
       " 'text',\n",
       " 'text_content',\n",
       " 'values',\n",
       " 'xpath']"
      ]
     },
     "execution_count": 27,
     "metadata": {},
     "output_type": "execute_result"
    }
   ],
   "execution_count": 27
  },
  {
   "metadata": {},
   "cell_type": "code",
   "outputs": [],
   "execution_count": null,
   "source": "",
   "id": "77e594478bba8cd"
  }
 ],
 "metadata": {
  "kernelspec": {
   "display_name": "Python 3",
   "language": "python",
   "name": "python3"
  },
  "language_info": {
   "codemirror_mode": {
    "name": "ipython",
    "version": 2
   },
   "file_extension": ".py",
   "mimetype": "text/x-python",
   "name": "python",
   "nbconvert_exporter": "python",
   "pygments_lexer": "ipython2",
   "version": "2.7.6"
  }
 },
 "nbformat": 4,
 "nbformat_minor": 5
}
